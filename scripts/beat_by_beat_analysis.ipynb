{
 "cells": [
  {
   "cell_type": "code",
   "execution_count": 4,
   "id": "192500f3-339f-4d25-b28c-b1920eb77585",
   "metadata": {},
   "outputs": [
    {
     "name": "stderr",
     "output_type": "stream",
     "text": [
      "Installing packages into 'C:/Users/jeanh/AppData/Local/R/win-library/4.4'\n",
      "(as 'lib' is unspecified)\n",
      "\n",
      "also installing the dependencies 'stringi', 'Rcpp'\n",
      "\n",
      "\n"
     ]
    },
    {
     "name": "stdout",
     "output_type": "stream",
     "text": [
      "package 'stringi' successfully unpacked and MD5 sums checked\n",
      "package 'Rcpp' successfully unpacked and MD5 sums checked\n",
      "package 'ggplot2' successfully unpacked and MD5 sums checked\n",
      "package 'stringr' successfully unpacked and MD5 sums checked\n",
      "package 'plyr' successfully unpacked and MD5 sums checked\n",
      "package 'dplyr' successfully unpacked and MD5 sums checked\n",
      "package 'lubridate' successfully unpacked and MD5 sums checked\n",
      "package 'reshape2' successfully unpacked and MD5 sums checked\n",
      "package 'scales' successfully unpacked and MD5 sums checked\n",
      "package 'ggthemes' successfully unpacked and MD5 sums checked\n",
      "package 'Metrics' successfully unpacked and MD5 sums checked\n",
      "\n",
      "The downloaded binary packages are in\n",
      "\tC:\\Users\\jeanh\\AppData\\Local\\Temp\\RtmpcHcmC8\\downloaded_packages\n"
     ]
    }
   ],
   "source": [
    "install.packages(c(\"ggplot2\", \"stringr\", \"plyr\", \"dplyr\", \"lubridate\", \"reshape2\", \"scales\", \"ggthemes\", \"Metrics\"))"
   ]
  },
  {
   "cell_type": "code",
   "execution_count": 5,
   "id": "44852e03-088b-40fa-8dfa-f9c07336f018",
   "metadata": {},
   "outputs": [
    {
     "name": "stderr",
     "output_type": "stream",
     "text": [
      "\n",
      "Attaching package: 'dplyr'\n",
      "\n",
      "\n",
      "The following objects are masked from 'package:plyr':\n",
      "\n",
      "    arrange, count, desc, failwith, id, mutate, rename, summarise,\n",
      "    summarize\n",
      "\n",
      "\n",
      "The following objects are masked from 'package:stats':\n",
      "\n",
      "    filter, lag\n",
      "\n",
      "\n",
      "The following objects are masked from 'package:base':\n",
      "\n",
      "    intersect, setdiff, setequal, union\n",
      "\n",
      "\n",
      "\n",
      "Attaching package: 'lubridate'\n",
      "\n",
      "\n",
      "The following objects are masked from 'package:base':\n",
      "\n",
      "    date, intersect, setdiff, union\n",
      "\n",
      "\n"
     ]
    }
   ],
   "source": [
    "library(ggplot2)\n",
    "library(stringr)\n",
    "library(plyr)\n",
    "library(dplyr)\n",
    "library(lubridate)\n",
    "library(reshape2)\n",
    "library(scales)\n",
    "library(ggthemes)\n",
    "library(Metrics)"
   ]
  },
  {
   "cell_type": "code",
   "execution_count": 25,
   "id": "472c32ad-dc9c-4930-a927-6746813b9dc9",
   "metadata": {},
   "outputs": [
    {
     "name": "stdout",
     "output_type": "stream",
     "text": [
      "'data.frame':\t147271 obs. of  3 variables:\n",
      " $ V1: chr  \"0X100CF05D141FF143.avi\" \"0X100CF05D141FF143.avi\" \"0X100CF05D141FF143.avi\" \"0X100CF05D141FF143.avi\" ...\n",
      " $ V2: int  0 1 2 3 4 5 6 7 8 9 ...\n",
      " $ V3: num  60.5 60.6 60.4 60.7 61 ...\n"
     ]
    }
   ],
   "source": [
    "data <- read.csv(\"r2plus1d_18_32_2_pretrained_test_predictions.csv\", header = FALSE)\n",
    "str(data)"
   ]
  },
  {
   "cell_type": "code",
   "execution_count": 26,
   "id": "b287c2ef-0385-4def-88b9-464de98c479f",
   "metadata": {},
   "outputs": [
    {
     "name": "stdout",
     "output_type": "stream",
     "text": [
      "'data.frame':\t1276 obs. of  3 variables:\n",
      " $ V1: chr  \"0X100CF05D141FF143.avi\" \"0X1012703CDC1436FE.avi\" \"0X102CFB07F752AAE6.avi\" \"0X105B9EF57DE45DCB.avi\" ...\n",
      " $ V2: int  0 0 0 0 0 0 0 0 0 0 ...\n",
      " $ V3: num  60.5 47 56.6 54.5 60.9 ...\n"
     ]
    }
   ],
   "source": [
    "# 筛选出 V2 值等于 0 的所有行（即所有测试集视频的第0帧），并将结果存储在 dataNoAugmentation 中\n",
    "dataNoAugmentation <- data[data$V2 == 0,]\n",
    "str(dataNoAugmentation)"
   ]
  },
  {
   "cell_type": "code",
   "execution_count": 10,
   "id": "3527cb1e-69d2-4651-8c51-0aee227841da",
   "metadata": {},
   "outputs": [
    {
     "name": "stdout",
     "output_type": "stream",
     "text": [
      "tibble [1,276 × 3] (S3: tbl_df/tbl/data.frame)\n",
      " $ V1            : chr [1:1276] \"0X100CF05D141FF143.avi\" \"0X1012703CDC1436FE.avi\" \"0X102CFB07F752AAE6.avi\" \"0X105B9EF57DE45DCB.avi\" ...\n",
      " $ meanPrediction: num [1:1276] 61.1 45.1 50 53.2 61.2 ...\n",
      " $ sdPred        : num [1:1276] 0.671 2.486 4.065 1.888 1.093 ...\n"
     ]
    }
   ],
   "source": [
    "# 根据视频文件名（V1）进行分组，计算每个视频中所有帧的预测射血分数的平均值（meanPrediction）和标准差（sdPred）\n",
    "dataGlobalAugmentation <- data %>% group_by(V1) %>% summarize(meanPrediction = mean(V3), sdPred = sd(V3))\n",
    "str(dataGlobalAugmentation)"
   ]
  },
  {
   "cell_type": "code",
   "execution_count": 11,
   "id": "a88a44b5-c032-4d1d-b527-21478cab91e2",
   "metadata": {},
   "outputs": [
    {
     "name": "stdout",
     "output_type": "stream",
     "text": [
      "'data.frame':\t5024 obs. of  6 variables:\n",
      " $ Filename     : chr  \"0X100CF05D141FF143.avi\" \"0X100CF05D141FF143.avi\" \"0X100CF05D141FF143.avi\" \"0X100CF05D141FF143.avi\" ...\n",
      " $ Frame        : int  23 89 150 213 23 71 122 174 30 85 ...\n",
      " $ Size         : int  858 794 830 823 1706 1670 1670 1689 866 573 ...\n",
      " $ HumanLarge   : int  0 0 0 0 0 0 0 0 0 0 ...\n",
      " $ HumanSmall   : int  0 0 0 0 0 0 0 0 0 0 ...\n",
      " $ ComputerSmall: int  1 1 1 1 1 1 1 1 1 1 ...\n"
     ]
    }
   ],
   "source": [
    "# 找出模型预测该帧为 \"小\" 的目标，也就是模型认为这是一个收缩期的帧\n",
    "sizeData <- read.csv(\"size.csv\")\n",
    "sizeData <- sizeData[sizeData$ComputerSmall == 1,]\n",
    "str(sizeData)"
   ]
  },
  {
   "cell_type": "code",
   "execution_count": 12,
   "id": "851cb70e-f086-4cd7-9ba5-adccf67fbb72",
   "metadata": {},
   "outputs": [],
   "source": [
    "sizeRelevantFrames <- sizeData[c(1,2)] # 选择 sizeData 的第 1 和第 2 列，R语言的index是从1开始的\n",
    "sizeRelevantFrames$Frame <- sizeRelevantFrames$Frame - 32 # 将 sizeRelevantFrames 中 Frame 列的每个值减去 32\n",
    "sizeRelevantFrames[sizeRelevantFrames$Frame < 0,]$Frame <- 0 # 将所有 Frame 值小于 0 的行的 Frame 值重置为 0"
   ]
  },
  {
   "cell_type": "code",
   "execution_count": 42,
   "id": "48f6368a-6ba0-4296-a401-2ebf4d58f42a",
   "metadata": {},
   "outputs": [
    {
     "name": "stdout",
     "output_type": "stream",
     "text": [
      "tibble [1,274 × 3] (S3: tbl_df/tbl/data.frame)\n",
      " $ Filename      : chr [1:1274] \"0X100CF05D141FF143.avi\" \"0X1012703CDC1436FE.avi\" \"0X102CFB07F752AAE6.avi\" \"0X105B9EF57DE45DCB.avi\" ...\n",
      " $ meanPrediction: num [1:1274] 61 45.5 51.8 54.3 60.9 ...\n",
      " $ sdPred        : num [1:1274] 0.6066 1.4462 4.1208 1.3585 0.0306 ...\n"
     ]
    }
   ],
   "source": [
    "beatByBeat <- merge(sizeRelevantFrames, data, by.x = c(\"Filename\", \"Frame\"), by.y = c(\"V1\", \"V2\")) # 将 sizeRelevantFrames 和 data 两个数据框合并，合并后，得到的数据框 beatByBeat 将包含 sizeRelevantFrames 和 data 中匹配的行\n",
    "beatByBeat <- beatByBeat %>% group_by(Filename) %>% summarize(meanPrediction = mean(V3), sdPred = sd(V3)) # 对 beatByBeat 数据按 Filename 进行分组\n",
    "str(beatByBeat)"
   ]
  },
  {
   "cell_type": "code",
   "execution_count": 17,
   "id": "9f088eee-676d-48d1-ad82-3dbe883e2019",
   "metadata": {},
   "outputs": [
    {
     "name": "stdout",
     "output_type": "stream",
     "text": [
      "'data.frame':\t10030 obs. of  2 variables:\n",
      " $ FileName: num  1.15e+18 1.15e+18 1.15e+18 1.15e+18 1.16e+18 ...\n",
      " $ EF      : num  78.5 59.1 62.4 54.5 24.9 ...\n"
     ]
    }
   ],
   "source": [
    "fileLocation <- \"E:/Ultrasound/EchoNet-Dynamic/dynamic-master-gpu/a4c-video-dir/\"\n",
    "ActualNumbers <- read.csv(paste0(fileLocation, \"FileList.csv\", sep = \"\"))\n",
    "ActualNumbers <- ActualNumbers[c(1,2)]\n",
    "str(ActualNumbers)"
   ]
  },
  {
   "cell_type": "code",
   "execution_count": 27,
   "id": "f9caae29-ab11-4be1-82cf-72ae6f9e8780",
   "metadata": {},
   "outputs": [],
   "source": [
    "dataNoAugmentation$V1 <- as.numeric(gsub(\"\\\\.avi$\", \"\", dataNoAugmentation$V1)) # 去掉 .avi 后缀，并将 V1 列转换为数值类型"
   ]
  },
  {
   "cell_type": "code",
   "execution_count": 28,
   "id": "31899fe5-c3f7-4469-bf93-869266662472",
   "metadata": {},
   "outputs": [
    {
     "name": "stdout",
     "output_type": "stream",
     "text": [
      "'data.frame':\t1276 obs. of  5 variables:\n",
      " $ V1    : num  7.29e+15 1.85e+16 3.15e+16 4.26e+16 8.39e+16 ...\n",
      " $ V2    : int  0 0 0 0 0 0 0 0 0 0 ...\n",
      " $ V3    : num  66.4 62.7 54.2 64 59.4 ...\n",
      " $ EF    : num  66 58.3 56.9 60.2 58.5 ...\n",
      " $ AbsErr: num  0.353 4.408 2.719 3.802 0.916 ...\n"
     ]
    }
   ],
   "source": [
    "dataNoAugmentation <- merge(dataNoAugmentation, ActualNumbers, by.x = \"V1\", by.y = \"FileName\", all.x = TRUE)\n",
    "dataNoAugmentation$AbsErr <- abs(dataNoAugmentation$V3 - dataNoAugmentation$EF)\n",
    "str(dataNoAugmentation)"
   ]
  },
  {
   "cell_type": "code",
   "execution_count": 29,
   "id": "b565ce01-b803-42c5-86c6-912ae6a2dcc1",
   "metadata": {},
   "outputs": [
    {
     "data": {
      "text/plain": [
       "    Min.  1st Qu.   Median     Mean  3rd Qu.     Max. \n",
       " 0.01173  1.50524  3.18150  4.18681  5.71472 28.37943 "
      ]
     },
     "metadata": {},
     "output_type": "display_data"
    }
   ],
   "source": [
    "summary(abs(dataNoAugmentation$V3 - dataNoAugmentation$EF))"
   ]
  },
  {
   "cell_type": "code",
   "execution_count": 30,
   "id": "364d86c5-8ef1-47e8-8b04-ec189f49a027",
   "metadata": {},
   "outputs": [
    {
     "data": {
      "text/html": [
       "5.61215356830739"
      ],
      "text/latex": [
       "5.61215356830739"
      ],
      "text/markdown": [
       "5.61215356830739"
      ],
      "text/plain": [
       "[1] 5.612154"
      ]
     },
     "metadata": {},
     "output_type": "display_data"
    }
   ],
   "source": [
    "rmse(dataNoAugmentation$V3,dataNoAugmentation$EF) "
   ]
  },
  {
   "cell_type": "code",
   "execution_count": 31,
   "id": "bdf3f4e2-e549-47ed-9fea-679496fbb610",
   "metadata": {},
   "outputs": [
    {
     "data": {
      "text/html": [
       "0.790658466749501"
      ],
      "text/latex": [
       "0.790658466749501"
      ],
      "text/markdown": [
       "0.790658466749501"
      ],
      "text/plain": [
       "[1] 0.7906585"
      ]
     },
     "metadata": {},
     "output_type": "display_data"
    }
   ],
   "source": [
    "modelNoAugmentation <- lm(dataNoAugmentation$EF ~ dataNoAugmentation$V3)\n",
    "summary(modelNoAugmentation)$r.squared"
   ]
  },
  {
   "cell_type": "code",
   "execution_count": 43,
   "id": "fc99ea13-df89-472c-837f-1cdde46e035c",
   "metadata": {},
   "outputs": [
    {
     "data": {
      "text/plain": [
       "     Min.   1st Qu.    Median      Mean   3rd Qu.      Max. \n",
       " 0.000475  1.375960  3.132065  3.957903  5.393616 27.191628 "
      ]
     },
     "metadata": {},
     "output_type": "display_data"
    }
   ],
   "source": [
    "beatByBeat$Filename <- as.numeric(gsub(\"\\\\.avi$\", \"\", beatByBeat$Filename))\n",
    "beatByBeat <- merge(beatByBeat, ActualNumbers, by.x = \"Filename\", by.y = \"FileName\", all.x = TRUE)\n",
    "summary(abs(beatByBeat$meanPrediction - beatByBeat$EF))"
   ]
  },
  {
   "cell_type": "code",
   "execution_count": 44,
   "id": "d9e38aae-24cd-4c78-b388-66fb22b44f50",
   "metadata": {},
   "outputs": [
    {
     "data": {
      "text/html": [
       "5.31356278430765"
      ],
      "text/latex": [
       "5.31356278430765"
      ],
      "text/markdown": [
       "5.31356278430765"
      ],
      "text/plain": [
       "[1] 5.313563"
      ]
     },
     "metadata": {},
     "output_type": "display_data"
    }
   ],
   "source": [
    "rmse(beatByBeat$meanPrediction, beatByBeat$EF) \n",
    "# 5.325237"
   ]
  },
  {
   "cell_type": "code",
   "execution_count": 45,
   "id": "f5375149-ab01-43f5-be6d-a79ef115debc",
   "metadata": {},
   "outputs": [
    {
     "data": {
      "text/html": [
       "0.810990622579548"
      ],
      "text/latex": [
       "0.810990622579548"
      ],
      "text/markdown": [
       "0.810990622579548"
      ],
      "text/plain": [
       "[1] 0.8109906"
      ]
     },
     "metadata": {},
     "output_type": "display_data"
    }
   ],
   "source": [
    "modelBeatByBeat <- lm(beatByBeat$EF ~ beatByBeat$meanPrediction)\n",
    "summary(modelBeatByBeat)$r.squared\n",
    "# 0.8093174"
   ]
  },
  {
   "cell_type": "code",
   "execution_count": 46,
   "id": "c0ad87d5-cd63-4c6c-b886-319bebcc61e3",
   "metadata": {},
   "outputs": [
    {
     "name": "stdout",
     "output_type": "stream",
     "text": [
      "'data.frame':\t4127 obs. of  3 variables:\n",
      " $ Filename: chr  \"0X100CF05D141FF143.avi\" \"0X100CF05D141FF143.avi\" \"0X100CF05D141FF143.avi\" \"0X100CF05D141FF143.avi\" ...\n",
      " $ Frame   : num  0 118 181 57 0 39 90 0 105 53 ...\n",
      " $ V3      : num  60.5 61.5 60.5 61.6 47 ...\n"
     ]
    }
   ],
   "source": [
    "beatByBeatAnalysis <- merge(sizeRelevantFrames, data, by.x = c(\"Filename\", \"Frame\"), by.y = c(\"V1\", \"V2\"))\n",
    "str(beatByBeatAnalysis)"
   ]
  },
  {
   "cell_type": "code",
   "execution_count": 47,
   "id": "8fcf8857-4da0-4169-bd8c-382033e36de8",
   "metadata": {},
   "outputs": [
    {
     "name": "stdout",
     "output_type": "stream",
     "text": [
      "'data.frame':\t500 obs. of  3 variables:\n",
      " $ counter: int  1 2 3 4 5 6 7 8 9 10 ...\n",
      " $ sample : num  -9999 -9999 -9999 -9999 -9999 ...\n",
      " $ error  : num  -9999 -9999 -9999 -9999 -9999 ...\n"
     ]
    }
   ],
   "source": [
    "MAEdata <- data.frame(counter = 1:500)\n",
    "MAEdata$sample <- -9999\n",
    "MAEdata$error <- -9999\n",
    "\n",
    "str(MAEdata)"
   ]
  },
  {
   "cell_type": "code",
   "execution_count": 51,
   "id": "424ef2b1-fead-4c49-aade-77ca3cbcc67b",
   "metadata": {},
   "outputs": [],
   "source": [
    "for (i in 1:500){\n",
    "samplingBeat <-  sample_n(beatByBeatAnalysis %>% group_by(Filename), 1 + floor((i-1)/100), replace = TRUE) %>% group_by(Filename) %>% dplyr::summarize(meanPred = mean(V3))\n",
    "samplingBeat$Filename <- as.numeric(gsub(\"\\\\.avi$\", \"\", samplingBeat$Filename))\n",
    "samplingBeat <- merge(samplingBeat, ActualNumbers, by.x = \"Filename\", by.y = \"FileName\", all.x = TRUE)\n",
    "samplingBeat$error <- abs(samplingBeat$meanPred - samplingBeat$EF)\n",
    "MAEdata$sample[i] <-  1 + floor((i-1)/100)\n",
    "MAEdata$error[i] <- mean(samplingBeat$error )\n",
    "}"
   ]
  },
  {
   "cell_type": "code",
   "execution_count": 52,
   "id": "5e74cc24-085e-4c34-9e4c-75e0d5a48f3d",
   "metadata": {},
   "outputs": [
    {
     "name": "stdout",
     "output_type": "stream",
     "text": [
      "'data.frame':\t500 obs. of  3 variables:\n",
      " $ counter: int  1 2 3 4 5 6 7 8 9 10 ...\n",
      " $ sample : num  1 1 1 1 1 1 1 1 1 1 ...\n",
      " $ error  : num  4.15 4.09 4.17 4.11 4.13 ...\n"
     ]
    }
   ],
   "source": [
    "str(MAEdata)"
   ]
  },
  {
   "cell_type": "code",
   "execution_count": 53,
   "id": "0721466c-6580-498f-8dfb-12ef809a8cf1",
   "metadata": {},
   "outputs": [
    {
     "data": {
      "image/png": "[encoded data removed]",
      "text/plain": [
       "plot without title"
      ]
     },
     "metadata": {
      "image/png": {
       "height": 420,
       "width": 420
      }
     },
     "output_type": "display_data"
    }
   ],
   "source": [
    "beatBoxPlot <- ggplot(data = MAEdata) + geom_boxplot(aes(x = sample, y = error, group = sample), outlier.shape = NA\n",
    ") + theme_classic() + theme(legend.position = \"none\", axis.text.y = element_text( size=7)) + xlab(\"Number of Sampled Beats\") + ylab(\"Mean Absolute Error\") + scale_fill_brewer(palette = \"Set1\", direction = -1) \n",
    "\n",
    "beatBoxPlot"
   ]
  },
  {
   "cell_type": "code",
   "execution_count": null,
   "id": "eac1c277-a9f1-4717-8c18-814b9d386669",
   "metadata": {},
   "outputs": [],
   "source": []
  }
 ],
 "metadata": {
  "kernelspec": {
   "display_name": "R",
   "language": "R",
   "name": "ir"
  },
  "language_info": {
   "codemirror_mode": "r",
   "file_extension": ".r",
   "mimetype": "text/x-r-source",
   "name": "R",
   "pygments_lexer": "r",
   "version": "4.4.1"
  }
 },
 "nbformat": 4,
 "nbformat_minor": 5
}
